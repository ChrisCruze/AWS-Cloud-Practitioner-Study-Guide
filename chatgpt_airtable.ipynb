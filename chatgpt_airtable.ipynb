{
  "nbformat": 4,
  "nbformat_minor": 0,
  "metadata": {
    "colab": {
      "provenance": [],
      "authorship_tag": "ABX9TyOCXNQgRmF9Y15M4+2yfTJ+",
      "include_colab_link": true
    },
    "kernelspec": {
      "name": "python3",
      "display_name": "Python 3"
    },
    "language_info": {
      "name": "python"
    }
  },
  "cells": [
    {
      "cell_type": "markdown",
      "metadata": {
        "id": "view-in-github",
        "colab_type": "text"
      },
      "source": [
        "<a href=\"https://colab.research.google.com/github/ChrisCruze/AWS-Cloud-Practitioner-Study-Guide/blob/main/chatgpt_airtable.ipynb\" target=\"_parent\"><img src=\"https://colab.research.google.com/assets/colab-badge.svg\" alt=\"Open In Colab\"/></a>"
      ]
    },
    {
      "cell_type": "code",
      "execution_count": null,
      "metadata": {
        "id": "EVAPZ-KMaWZB"
      },
      "outputs": [],
      "source": [
        "!pip install openai\n",
        "!pip install python-dotenv"
      ]
    },
    {
      "cell_type": "code",
      "source": [
        "import requests\n",
        "exec(requests.get('https://chriscross.site44.com/py/helpers.py').text)\n",
        "url = 'https://api.airtable.com/v0/app2D0RMNe16fnsaA/Tasks?api_key=keyIffg4q9CmdItjv&view=Active'\n",
        "airtable_array = Helpers().airtable_pull(url)\n",
        "airtable_array"
      ],
      "metadata": {
        "id": "adMNWlX9hLVa",
        "outputId": "aa448ff3-c6c2-4d93-f8f3-bf3a00ab0018",
        "colab": {
          "base_uri": "https://localhost:8080/"
        }
      },
      "execution_count": 21,
      "outputs": [
        {
          "output_type": "execute_result",
          "data": {
            "text/plain": [
              "[{'id': 'recpGfiGX1y4zekZ4',\n",
              "  'createdTime': '2023-04-17T03:00:44.000Z',\n",
              "  'fields': {'Budget': 60,\n",
              "   'labels': ['computer', 'code', '25min'],\n",
              "   'Task': 'Create Gspread from Airtable Method',\n",
              "   'Items': ['recIplkDnfp8ukjvB'],\n",
              "   'Projects': ['recy6sTHvUhdpnBsP'],\n",
              "   'priority': 1,\n",
              "   'Status': 'Active',\n",
              "   'Name': 'Bnb Report',\n",
              "   'Hours Rollup (from Logs)': 0,\n",
              "   'Created': '2023-04-17T03:00:44.000Z',\n",
              "   'importance': 100,\n",
              "   'todoist_project_id': ['2159935681'],\n",
              "   'todoist_task': 'Bnb: Bnb Report - Create Gspread from Airtable Method',\n",
              "   'project_name': ['Bnb'],\n",
              "   'Minutes Today': 0,\n",
              "   'Minutes This Week': 0,\n",
              "   'Minutes': 0,\n",
              "   'Budget Percentage': 0,\n",
              "   'Next Due': '2023-05-06T00:00:00.000Z',\n",
              "   'Is Due': 'Overdue',\n",
              "   'todoist_object': 'return {content: \"{todoist_task}\", due_date: props[\"Next Due\"], labels:[\"generated\",props.Status].concat(props.labels||[]), priority:parseInt(props.priority)||2, description:props.description||\"\", project_id: props.todoist_project_id[0]}',\n",
              "   'Todoist': {'label': 'Create',\n",
              "    'url': 'https://chriscross.site44.com/quantified/index.html#/AirTableTodoist2?baseID=app2D0RMNe16fnsaA&tableName=Projects&recordID=recpGfiGX1y4zekZ4'},\n",
              "   'due_date': '2023-05-06T00:00:00.000Z',\n",
              "   'description': 'Vision: Manage operations so well that I make more money\\\\\\nProblem: Ensure that rent is paid to stay on top of Cornelius and also need to think through how I can manage expenses\\\\\\nStrategy: Bnb Report - Calculate P&L and check expenses\\\\\\nNotes: Bnb Report - Calculate P&L and check expenses\\\\\\nURL: https://airtable.com/appbcMtddj6Rfwo5D/tbl1kokr9aPAgiILw/viwI8G5XUGD6CqsjD?blocks=hide',\n",
              "   'Minutes Remaining': 60,\n",
              "   'Budget (Hours)': 1,\n",
              "   'todoist_object copy': 'return {content: \"{todoist_task}\", due_date: new Date().toISOString().slice(0, 10), labels:props.labels, priority:parseInt(props.priority)||2, description:props.description||\"\", project_id: props.todoist_project_id[0]}'},\n",
              "  'Budget': 60,\n",
              "  'labels': ['computer', 'code', '25min'],\n",
              "  'Task': 'Create Gspread from Airtable Method',\n",
              "  'Items': ['recIplkDnfp8ukjvB'],\n",
              "  'Projects': ['recy6sTHvUhdpnBsP'],\n",
              "  'priority': 1,\n",
              "  'Status': 'Active',\n",
              "  'Name': 'Bnb Report',\n",
              "  'Hours Rollup (from Logs)': 0,\n",
              "  'Created': '2023-04-17T03:00:44.000Z',\n",
              "  'importance': 100,\n",
              "  'todoist_project_id': ['2159935681'],\n",
              "  'todoist_task': 'Bnb: Bnb Report - Create Gspread from Airtable Method',\n",
              "  'project_name': ['Bnb'],\n",
              "  'Minutes Today': 0,\n",
              "  'Minutes This Week': 0,\n",
              "  'Minutes': 0,\n",
              "  'Budget Percentage': 0,\n",
              "  'Next Due': '2023-05-06T00:00:00.000Z',\n",
              "  'Is Due': 'Overdue',\n",
              "  'todoist_object': 'return {content: \"{todoist_task}\", due_date: props[\"Next Due\"], labels:[\"generated\",props.Status].concat(props.labels||[]), priority:parseInt(props.priority)||2, description:props.description||\"\", project_id: props.todoist_project_id[0]}',\n",
              "  'Todoist': {'label': 'Create',\n",
              "   'url': 'https://chriscross.site44.com/quantified/index.html#/AirTableTodoist2?baseID=app2D0RMNe16fnsaA&tableName=Projects&recordID=recpGfiGX1y4zekZ4'},\n",
              "  'due_date': '2023-05-06T00:00:00.000Z',\n",
              "  'description': 'Vision: Manage operations so well that I make more money\\\\\\nProblem: Ensure that rent is paid to stay on top of Cornelius and also need to think through how I can manage expenses\\\\\\nStrategy: Bnb Report - Calculate P&L and check expenses\\\\\\nNotes: Bnb Report - Calculate P&L and check expenses\\\\\\nURL: https://airtable.com/appbcMtddj6Rfwo5D/tbl1kokr9aPAgiILw/viwI8G5XUGD6CqsjD?blocks=hide',\n",
              "  'Minutes Remaining': 60,\n",
              "  'Budget (Hours)': 1,\n",
              "  'todoist_object copy': 'return {content: \"{todoist_task}\", due_date: new Date().toISOString().slice(0, 10), labels:props.labels, priority:parseInt(props.priority)||2, description:props.description||\"\", project_id: props.todoist_project_id[0]}'},\n",
              " {'id': 'recYbCNQKqqok6EL3',\n",
              "  'createdTime': '2023-05-02T22:32:03.000Z',\n",
              "  'fields': {'Budget': 120,\n",
              "   'labels': ['Think', '25min'],\n",
              "   'Task': 'Define Logic',\n",
              "   'Items': ['recqXlE1wbgnsh0wL',\n",
              "    'reccWaFQtVwCORiT9',\n",
              "    'rechyndToGavjmw0B',\n",
              "    'recNPCzNu4u5iF25z'],\n",
              "   'Projects': ['recGCfV5k74GOHkK3'],\n",
              "   'Logs': ['recAVXf4EOtR5dfsn', 'rec1IooUQVDTvjiie'],\n",
              "   'priority': 3,\n",
              "   'Status': 'Active',\n",
              "   'Name': 'GPT MultiPrompt',\n",
              "   'Notes': 'update project fields with promp results since have goal and can parse from Python\\n',\n",
              "   'Hours Rollup (from Logs)': 0.8666666666666667,\n",
              "   'Created': '2023-05-02T22:32:03.000Z',\n",
              "   'importance': 90,\n",
              "   'todoist_project_id': ['2159934063'],\n",
              "   'todoist_task': 'AI: GPT MultiPrompt - Define Logic',\n",
              "   'project_name': ['AI'],\n",
              "   'Minutes Today': 52,\n",
              "   'Minutes This Week': 52,\n",
              "   'Minutes': 52,\n",
              "   'Budget Percentage': 43.333333333333336,\n",
              "   'Latest Date': '2023-05-06T19:19:22.000Z',\n",
              "   'Next Due': '2023-05-06T00:00:00.000Z',\n",
              "   'Is Due': 'Overdue',\n",
              "   'Earliest Date': '2023-05-06T16:56:38.000Z',\n",
              "   'todoist_object': 'return {content: \"{todoist_task}\", due_date: props[\"Next Due\"], labels:[\"generated\",props.Status].concat(props.labels||[]), priority:parseInt(props.priority)||2, description:props.description||\"\", project_id: props.todoist_project_id[0]}',\n",
              "   'Todoist': {'label': 'Create',\n",
              "    'url': 'https://chriscross.site44.com/quantified/index.html#/AirTableTodoist2?baseID=app2D0RMNe16fnsaA&tableName=Projects&recordID=recYbCNQKqqok6EL3'},\n",
              "   'due_date': '2023-05-06T00:00:00.000Z',\n",
              "   'description': 'Vision: Become an expert in AI so that I can leverage my skills to be a game changer and achieve financial success\\\\\\nProblem: AI is a new technology that is changing the world and need to leverage it at an accelerated pace to fully take advantage of it.\\\\\\nStrategy: AirTable Integration - Create Python AirTable Integration\\\\\\nNotes: Code - Research AirTable\\n\\nI will build ChatGPT into AirTable so that I can integrate AI into all aspects of my life.\\n\\nhttps://airtable.com/appbcMtddj6Rfwo5D/tbl1kokr9aPAgiILw/viwNgXZUXbhBE53oi?blocks=hide\\\\\\nURL: https://airtable.com/appbcMtddj6Rfwo5D/tbl1kokr9aPAgiILw/viwNgXZUXbhBE53oi?blocks=hide',\n",
              "   'Minutes Remaining': 68,\n",
              "   'Budget (Hours)': 2,\n",
              "   'todoist_object copy': 'return {content: \"{todoist_task}\", due_date: new Date().toISOString().slice(0, 10), labels:props.labels, priority:parseInt(props.priority)||2, description:props.description||\"\", project_id: props.todoist_project_id[0]}'},\n",
              "  'Budget': 120,\n",
              "  'labels': ['Think', '25min'],\n",
              "  'Task': 'Define Logic',\n",
              "  'Items': ['recqXlE1wbgnsh0wL',\n",
              "   'reccWaFQtVwCORiT9',\n",
              "   'rechyndToGavjmw0B',\n",
              "   'recNPCzNu4u5iF25z'],\n",
              "  'Projects': ['recGCfV5k74GOHkK3'],\n",
              "  'Logs': ['recAVXf4EOtR5dfsn', 'rec1IooUQVDTvjiie'],\n",
              "  'priority': 3,\n",
              "  'Status': 'Active',\n",
              "  'Name': 'GPT MultiPrompt',\n",
              "  'Notes': 'update project fields with promp results since have goal and can parse from Python\\n',\n",
              "  'Hours Rollup (from Logs)': 0.8666666666666667,\n",
              "  'Created': '2023-05-02T22:32:03.000Z',\n",
              "  'importance': 90,\n",
              "  'todoist_project_id': ['2159934063'],\n",
              "  'todoist_task': 'AI: GPT MultiPrompt - Define Logic',\n",
              "  'project_name': ['AI'],\n",
              "  'Minutes Today': 52,\n",
              "  'Minutes This Week': 52,\n",
              "  'Minutes': 52,\n",
              "  'Budget Percentage': 43.333333333333336,\n",
              "  'Latest Date': '2023-05-06T19:19:22.000Z',\n",
              "  'Next Due': '2023-05-06T00:00:00.000Z',\n",
              "  'Is Due': 'Overdue',\n",
              "  'Earliest Date': '2023-05-06T16:56:38.000Z',\n",
              "  'todoist_object': 'return {content: \"{todoist_task}\", due_date: props[\"Next Due\"], labels:[\"generated\",props.Status].concat(props.labels||[]), priority:parseInt(props.priority)||2, description:props.description||\"\", project_id: props.todoist_project_id[0]}',\n",
              "  'Todoist': {'label': 'Create',\n",
              "   'url': 'https://chriscross.site44.com/quantified/index.html#/AirTableTodoist2?baseID=app2D0RMNe16fnsaA&tableName=Projects&recordID=recYbCNQKqqok6EL3'},\n",
              "  'due_date': '2023-05-06T00:00:00.000Z',\n",
              "  'description': 'Vision: Become an expert in AI so that I can leverage my skills to be a game changer and achieve financial success\\\\\\nProblem: AI is a new technology that is changing the world and need to leverage it at an accelerated pace to fully take advantage of it.\\\\\\nStrategy: AirTable Integration - Create Python AirTable Integration\\\\\\nNotes: Code - Research AirTable\\n\\nI will build ChatGPT into AirTable so that I can integrate AI into all aspects of my life.\\n\\nhttps://airtable.com/appbcMtddj6Rfwo5D/tbl1kokr9aPAgiILw/viwNgXZUXbhBE53oi?blocks=hide\\\\\\nURL: https://airtable.com/appbcMtddj6Rfwo5D/tbl1kokr9aPAgiILw/viwNgXZUXbhBE53oi?blocks=hide',\n",
              "  'Minutes Remaining': 68,\n",
              "  'Budget (Hours)': 2,\n",
              "  'todoist_object copy': 'return {content: \"{todoist_task}\", due_date: new Date().toISOString().slice(0, 10), labels:props.labels, priority:parseInt(props.priority)||2, description:props.description||\"\", project_id: props.todoist_project_id[0]}'},\n",
              " {'id': 'recG3myEfG3fRn9um',\n",
              "  'createdTime': '2023-05-02T08:54:20.000Z',\n",
              "  'fields': {'Budget': 60,\n",
              "   'labels': ['computer', 'Research', 'AI'],\n",
              "   'Task': 'Create Monitoring Dashboard JIRAs',\n",
              "   'Items': ['recY991WD2YdeuPHL', 'recKlil9Otwpxs15C'],\n",
              "   'Projects': ['recQfFX4Z8FadI8w9'],\n",
              "   'Logs': ['recfUCzeNWbQKDalw', 'recHzTnJkwC2vLd3A'],\n",
              "   'priority': 1,\n",
              "   'Status': 'Active',\n",
              "   'Cadence': 3,\n",
              "   'Name': 'Monitoring Jira',\n",
              "   'Hours Rollup (from Logs)': 0.5666666666666667,\n",
              "   'Created': '2023-05-02T08:54:20.000Z',\n",
              "   'importance': 36,\n",
              "   'todoist_project_id': ['2159934072'],\n",
              "   'todoist_task': 'Monitoring: Monitoring Jira - Create Monitoring Dashboard JIRAs',\n",
              "   'project_name': ['Monitoring'],\n",
              "   'Minutes Today': 0,\n",
              "   'Minutes This Week': 34,\n",
              "   'Minutes': 34,\n",
              "   'Budget Percentage': 56.666666666666664,\n",
              "   'Latest Date': '2023-05-03T20:43:09.000Z',\n",
              "   'Next Due': '2023-05-06T20:43:09.000Z',\n",
              "   'Is Due': 'Good',\n",
              "   'Earliest Date': '2023-05-03T19:24:21.000Z',\n",
              "   'todoist_object': 'return {content: \"{todoist_task}\", due_date: props[\"Next Due\"], labels:[\"generated\",props.Status].concat(props.labels||[]), priority:parseInt(props.priority)||2, description:props.description||\"\", project_id: props.todoist_project_id[0]}',\n",
              "   'Todoist': {'label': 'Create',\n",
              "    'url': 'https://chriscross.site44.com/quantified/index.html#/AirTableTodoist2?baseID=app2D0RMNe16fnsaA&tableName=Projects&recordID=recG3myEfG3fRn9um'},\n",
              "   'due_date': '2023-05-06T00:00:00.000Z',\n",
              "   'description': 'Vision: Build a monitoring dashboard that will allow us to gain insight into how the CPT enrichment process is doing in terms of accuracy, coverage and latency\\\\\\nProblem: CPT Enrichment Metrics are really bad so they need to be measured to be improved\\\\\\nStrategy: By creating the stories in JIRA, I can provide structure and a timeline that we can follow\\\\\\nNotes: \\\\\\nURL: ',\n",
              "   'Minutes Remaining': 26,\n",
              "   'Budget (Hours)': 1,\n",
              "   'todoist_object copy': 'return {content: \"{todoist_task}\", due_date: new Date().toISOString().slice(0, 10), labels:props.labels, priority:parseInt(props.priority)||2, description:props.description||\"\", project_id: props.todoist_project_id[0]}'},\n",
              "  'Budget': 60,\n",
              "  'labels': ['computer', 'Research', 'AI'],\n",
              "  'Task': 'Create Monitoring Dashboard JIRAs',\n",
              "  'Items': ['recY991WD2YdeuPHL', 'recKlil9Otwpxs15C'],\n",
              "  'Projects': ['recQfFX4Z8FadI8w9'],\n",
              "  'Logs': ['recfUCzeNWbQKDalw', 'recHzTnJkwC2vLd3A'],\n",
              "  'priority': 1,\n",
              "  'Status': 'Active',\n",
              "  'Cadence': 3,\n",
              "  'Name': 'Monitoring Jira',\n",
              "  'Hours Rollup (from Logs)': 0.5666666666666667,\n",
              "  'Created': '2023-05-02T08:54:20.000Z',\n",
              "  'importance': 36,\n",
              "  'todoist_project_id': ['2159934072'],\n",
              "  'todoist_task': 'Monitoring: Monitoring Jira - Create Monitoring Dashboard JIRAs',\n",
              "  'project_name': ['Monitoring'],\n",
              "  'Minutes Today': 0,\n",
              "  'Minutes This Week': 34,\n",
              "  'Minutes': 34,\n",
              "  'Budget Percentage': 56.666666666666664,\n",
              "  'Latest Date': '2023-05-03T20:43:09.000Z',\n",
              "  'Next Due': '2023-05-06T20:43:09.000Z',\n",
              "  'Is Due': 'Good',\n",
              "  'Earliest Date': '2023-05-03T19:24:21.000Z',\n",
              "  'todoist_object': 'return {content: \"{todoist_task}\", due_date: props[\"Next Due\"], labels:[\"generated\",props.Status].concat(props.labels||[]), priority:parseInt(props.priority)||2, description:props.description||\"\", project_id: props.todoist_project_id[0]}',\n",
              "  'Todoist': {'label': 'Create',\n",
              "   'url': 'https://chriscross.site44.com/quantified/index.html#/AirTableTodoist2?baseID=app2D0RMNe16fnsaA&tableName=Projects&recordID=recG3myEfG3fRn9um'},\n",
              "  'due_date': '2023-05-06T00:00:00.000Z',\n",
              "  'description': 'Vision: Build a monitoring dashboard that will allow us to gain insight into how the CPT enrichment process is doing in terms of accuracy, coverage and latency\\\\\\nProblem: CPT Enrichment Metrics are really bad so they need to be measured to be improved\\\\\\nStrategy: By creating the stories in JIRA, I can provide structure and a timeline that we can follow\\\\\\nNotes: \\\\\\nURL: ',\n",
              "  'Minutes Remaining': 26,\n",
              "  'Budget (Hours)': 1,\n",
              "  'todoist_object copy': 'return {content: \"{todoist_task}\", due_date: new Date().toISOString().slice(0, 10), labels:props.labels, priority:parseInt(props.priority)||2, description:props.description||\"\", project_id: props.todoist_project_id[0]}'}]"
            ]
          },
          "metadata": {},
          "execution_count": 21
        }
      ]
    },
    {
      "cell_type": "code",
      "source": [
        "airtable_array[0]"
      ],
      "metadata": {
        "id": "AipTaX7Hh0oe",
        "outputId": "9d9eeb27-2c66-4929-9cfa-0fe79739b423",
        "colab": {
          "base_uri": "https://localhost:8080/"
        }
      },
      "execution_count": 22,
      "outputs": [
        {
          "output_type": "execute_result",
          "data": {
            "text/plain": [
              "{'id': 'recpGfiGX1y4zekZ4',\n",
              " 'createdTime': '2023-04-17T03:00:44.000Z',\n",
              " 'fields': {'Budget': 60,\n",
              "  'labels': ['computer', 'code', '25min'],\n",
              "  'Task': 'Create Gspread from Airtable Method',\n",
              "  'Items': ['recIplkDnfp8ukjvB'],\n",
              "  'Projects': ['recy6sTHvUhdpnBsP'],\n",
              "  'priority': 1,\n",
              "  'Status': 'Active',\n",
              "  'Name': 'Bnb Report',\n",
              "  'Hours Rollup (from Logs)': 0,\n",
              "  'Created': '2023-04-17T03:00:44.000Z',\n",
              "  'importance': 100,\n",
              "  'todoist_project_id': ['2159935681'],\n",
              "  'todoist_task': 'Bnb: Bnb Report - Create Gspread from Airtable Method',\n",
              "  'project_name': ['Bnb'],\n",
              "  'Minutes Today': 0,\n",
              "  'Minutes This Week': 0,\n",
              "  'Minutes': 0,\n",
              "  'Budget Percentage': 0,\n",
              "  'Next Due': '2023-05-06T00:00:00.000Z',\n",
              "  'Is Due': 'Overdue',\n",
              "  'todoist_object': 'return {content: \"{todoist_task}\", due_date: props[\"Next Due\"], labels:[\"generated\",props.Status].concat(props.labels||[]), priority:parseInt(props.priority)||2, description:props.description||\"\", project_id: props.todoist_project_id[0]}',\n",
              "  'Todoist': {'label': 'Create',\n",
              "   'url': 'https://chriscross.site44.com/quantified/index.html#/AirTableTodoist2?baseID=app2D0RMNe16fnsaA&tableName=Projects&recordID=recpGfiGX1y4zekZ4'},\n",
              "  'due_date': '2023-05-06T00:00:00.000Z',\n",
              "  'description': 'Vision: Manage operations so well that I make more money\\\\\\nProblem: Ensure that rent is paid to stay on top of Cornelius and also need to think through how I can manage expenses\\\\\\nStrategy: Bnb Report - Calculate P&L and check expenses\\\\\\nNotes: Bnb Report - Calculate P&L and check expenses\\\\\\nURL: https://airtable.com/appbcMtddj6Rfwo5D/tbl1kokr9aPAgiILw/viwI8G5XUGD6CqsjD?blocks=hide',\n",
              "  'Minutes Remaining': 60,\n",
              "  'Budget (Hours)': 1,\n",
              "  'todoist_object copy': 'return {content: \"{todoist_task}\", due_date: new Date().toISOString().slice(0, 10), labels:props.labels, priority:parseInt(props.priority)||2, description:props.description||\"\", project_id: props.todoist_project_id[0]}'},\n",
              " 'Budget': 60,\n",
              " 'labels': ['computer', 'code', '25min'],\n",
              " 'Task': 'Create Gspread from Airtable Method',\n",
              " 'Items': ['recIplkDnfp8ukjvB'],\n",
              " 'Projects': ['recy6sTHvUhdpnBsP'],\n",
              " 'priority': 1,\n",
              " 'Status': 'Active',\n",
              " 'Name': 'Bnb Report',\n",
              " 'Hours Rollup (from Logs)': 0,\n",
              " 'Created': '2023-04-17T03:00:44.000Z',\n",
              " 'importance': 100,\n",
              " 'todoist_project_id': ['2159935681'],\n",
              " 'todoist_task': 'Bnb: Bnb Report - Create Gspread from Airtable Method',\n",
              " 'project_name': ['Bnb'],\n",
              " 'Minutes Today': 0,\n",
              " 'Minutes This Week': 0,\n",
              " 'Minutes': 0,\n",
              " 'Budget Percentage': 0,\n",
              " 'Next Due': '2023-05-06T00:00:00.000Z',\n",
              " 'Is Due': 'Overdue',\n",
              " 'todoist_object': 'return {content: \"{todoist_task}\", due_date: props[\"Next Due\"], labels:[\"generated\",props.Status].concat(props.labels||[]), priority:parseInt(props.priority)||2, description:props.description||\"\", project_id: props.todoist_project_id[0]}',\n",
              " 'Todoist': {'label': 'Create',\n",
              "  'url': 'https://chriscross.site44.com/quantified/index.html#/AirTableTodoist2?baseID=app2D0RMNe16fnsaA&tableName=Projects&recordID=recpGfiGX1y4zekZ4'},\n",
              " 'due_date': '2023-05-06T00:00:00.000Z',\n",
              " 'description': 'Vision: Manage operations so well that I make more money\\\\\\nProblem: Ensure that rent is paid to stay on top of Cornelius and also need to think through how I can manage expenses\\\\\\nStrategy: Bnb Report - Calculate P&L and check expenses\\\\\\nNotes: Bnb Report - Calculate P&L and check expenses\\\\\\nURL: https://airtable.com/appbcMtddj6Rfwo5D/tbl1kokr9aPAgiILw/viwI8G5XUGD6CqsjD?blocks=hide',\n",
              " 'Minutes Remaining': 60,\n",
              " 'Budget (Hours)': 1,\n",
              " 'todoist_object copy': 'return {content: \"{todoist_task}\", due_date: new Date().toISOString().slice(0, 10), labels:props.labels, priority:parseInt(props.priority)||2, description:props.description||\"\", project_id: props.todoist_project_id[0]}'}"
            ]
          },
          "metadata": {},
          "execution_count": 22
        }
      ]
    },
    {
      "cell_type": "code",
      "source": [
        "airtable_array[0].keys()"
      ],
      "metadata": {
        "id": "lc1_H8kEh333",
        "outputId": "1406d516-416d-43b2-f28d-8181b8f2d7d1",
        "colab": {
          "base_uri": "https://localhost:8080/"
        }
      },
      "execution_count": 23,
      "outputs": [
        {
          "output_type": "execute_result",
          "data": {
            "text/plain": [
              "dict_keys(['id', 'createdTime', 'fields', 'Budget', 'labels', 'Task', 'Items', 'Projects', 'priority', 'Status', 'Name', 'Hours Rollup (from Logs)', 'Created', 'importance', 'todoist_project_id', 'todoist_task', 'project_name', 'Minutes Today', 'Minutes This Week', 'Minutes', 'Budget Percentage', 'Next Due', 'Is Due', 'todoist_object', 'Todoist', 'due_date', 'description', 'Minutes Remaining', 'Budget (Hours)', 'todoist_object copy'])"
            ]
          },
          "metadata": {},
          "execution_count": 23
        }
      ]
    },
    {
      "cell_type": "code",
      "source": [
        "description = airtable_array[0]['description']"
      ],
      "metadata": {
        "id": "4PbLezFfh-fS"
      },
      "execution_count": 25,
      "outputs": []
    },
    {
      "cell_type": "code",
      "source": [
        "prompt = \"In a minute, I will ask you to {} that I will use to manage various projects I’m working on that are all being tracked within a database. Before we begin, I want you to ask me questions about this project  and anything else you need in order to complete the task to the best of your ability\""
      ],
      "metadata": {
        "id": "Ete62erhjulk",
        "outputId": "5560da12-100a-42f1-957f-3b714ff92cbb",
        "colab": {
          "base_uri": "https://localhost:8080/",
          "height": 131
        }
      },
      "execution_count": 26,
      "outputs": [
        {
          "output_type": "error",
          "ename": "SyntaxError",
          "evalue": "ignored",
          "traceback": [
            "\u001b[0;36m  File \u001b[0;32m\"<ipython-input-26-68f5586e7edc>\"\u001b[0;36m, line \u001b[0;32m1\u001b[0m\n\u001b[0;31m    prompt =\u001b[0m\n\u001b[0m             ^\u001b[0m\n\u001b[0;31mSyntaxError\u001b[0m\u001b[0;31m:\u001b[0m invalid syntax\n"
          ]
        }
      ]
    },
    {
      "cell_type": "code",
      "source": [
        "import openai\n",
        "import os\n",
        "#os.environ['OPENAI_API_KEY'] = ''\n",
        "\n",
        "openai.api_key = os.environ['OPENAI_API_KEY']\n",
        "prompt = 'What is your name?'\n",
        "response = openai.Completion.create(\n",
        "  model=\"text-davinci-003\",\n",
        "  prompt=prompt,\n",
        "  temperature=0.7,\n",
        "  max_tokens=256,\n",
        "  top_p=1,\n",
        "  frequency_penalty=0,\n",
        "  presence_penalty=0\n",
        ")\n",
        "response\n"
      ],
      "metadata": {
        "colab": {
          "base_uri": "https://localhost:8080/"
        },
        "id": "InVKYQdWdGEm",
        "outputId": "912b3993-44d4-4578-babb-17f6ac01e6d2"
      },
      "execution_count": 18,
      "outputs": [
        {
          "output_type": "execute_result",
          "data": {
            "text/plain": [
              "<OpenAIObject text_completion id=cmpl-7DHhiESqu6cIdMZOOVhtUiTAIl7Ay at 0x7f153c0f1120> JSON: {\n",
              "  \"choices\": [\n",
              "    {\n",
              "      \"finish_reason\": \"stop\",\n",
              "      \"index\": 0,\n",
              "      \"logprobs\": null,\n",
              "      \"text\": \"\\n\\nMy name is [your name here].\"\n",
              "    }\n",
              "  ],\n",
              "  \"created\": 1683400674,\n",
              "  \"id\": \"cmpl-7DHhiESqu6cIdMZOOVhtUiTAIl7Ay\",\n",
              "  \"model\": \"text-davinci-003\",\n",
              "  \"object\": \"text_completion\",\n",
              "  \"usage\": {\n",
              "    \"completion_tokens\": 10,\n",
              "    \"prompt_tokens\": 5,\n",
              "    \"total_tokens\": 15\n",
              "  }\n",
              "}"
            ]
          },
          "metadata": {},
          "execution_count": 18
        }
      ]
    },
    {
      "cell_type": "code",
      "source": [
        "from dotenv import load_dotenv\n",
        "load_dotenv()"
      ],
      "metadata": {
        "colab": {
          "base_uri": "https://localhost:8080/"
        },
        "id": "rzw7bgoidjFa",
        "outputId": "ade82ea3-2e1b-489d-d726-8d84a545e46d"
      },
      "execution_count": 6,
      "outputs": [
        {
          "output_type": "execute_result",
          "data": {
            "text/plain": [
              "False"
            ]
          },
          "metadata": {},
          "execution_count": 6
        }
      ]
    },
    {
      "cell_type": "code",
      "source": [
        "from dotenv import load_dotenv\n",
        "import dotenv\n",
        "dotenv.load_dotenv('./.env')\n",
        "print (os.getenv(\"OPENAI_API_KEY\"))\n",
        "# import os\n",
        "# os.environ['REDDIT_NAME'] = 'something'\n",
        "# print(os.getenv('REDDIT_NAME'))\n",
        "\n",
        "\n",
        "# load_dotenv()\n",
        "# my_id = os.getenv(\"OPENAI_API_KEY\")\n",
        "# my_id\n",
        "# import os\n",
        "# os.environ[\"\"]"
      ],
      "metadata": {
        "colab": {
          "base_uri": "https://localhost:8080/"
        },
        "id": "DA3qQCLHeo1D",
        "outputId": "c9c796a9-e2b2-4578-d2c1-f571fa776d54"
      },
      "execution_count": 16,
      "outputs": [
        {
          "output_type": "stream",
          "name": "stdout",
          "text": [
            "None\n"
          ]
        }
      ]
    },
    {
      "cell_type": "code",
      "source": [
        "print (os.getenv(\"OPENAI_API_KEY\"))"
      ],
      "metadata": {
        "colab": {
          "base_uri": "https://localhost:8080/"
        },
        "id": "GN1GylvZfjpA",
        "outputId": "d1db6266-b91b-483c-bad3-941210078e37"
      },
      "execution_count": 14,
      "outputs": [
        {
          "output_type": "stream",
          "name": "stdout",
          "text": [
            "None\n"
          ]
        }
      ]
    },
    {
      "cell_type": "code",
      "source": [
        "print (my_id)\n"
      ],
      "metadata": {
        "colab": {
          "base_uri": "https://localhost:8080/"
        },
        "id": "BklB37GNe_kv",
        "outputId": "0eaec6b6-83a2-4d58-9cc6-bde9d1c53add"
      },
      "execution_count": 11,
      "outputs": [
        {
          "output_type": "stream",
          "name": "stdout",
          "text": [
            "None\n"
          ]
        }
      ]
    },
    {
      "cell_type": "code",
      "source": [
        "response"
      ],
      "metadata": {
        "colab": {
          "base_uri": "https://localhost:8080/"
        },
        "id": "ms_Ktd-ydaM5",
        "outputId": "4c2e1a38-0b97-406a-ff95-99005b9f5d97"
      },
      "execution_count": 5,
      "outputs": [
        {
          "output_type": "execute_result",
          "data": {
            "text/plain": [
              "<OpenAIObject text_completion id=cmpl-7DHWrowrAtvQX0igNFNYC0VEdi2wm at 0x7f1561ad0040> JSON: {\n",
              "  \"choices\": [\n",
              "    {\n",
              "      \"finish_reason\": \"stop\",\n",
              "      \"index\": 0,\n",
              "      \"logprobs\": null,\n",
              "      \"text\": \"\\n\\nMy name is Ryan.\"\n",
              "    }\n",
              "  ],\n",
              "  \"created\": 1683400001,\n",
              "  \"id\": \"cmpl-7DHWrowrAtvQX0igNFNYC0VEdi2wm\",\n",
              "  \"model\": \"text-davinci-003\",\n",
              "  \"object\": \"text_completion\",\n",
              "  \"usage\": {\n",
              "    \"completion_tokens\": 7,\n",
              "    \"prompt_tokens\": 5,\n",
              "    \"total_tokens\": 12\n",
              "  }\n",
              "}"
            ]
          },
          "metadata": {},
          "execution_count": 5
        }
      ]
    }
  ]
}